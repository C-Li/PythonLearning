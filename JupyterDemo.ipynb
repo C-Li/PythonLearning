{
 "cells": [
  {
   "cell_type": "markdown",
   "metadata": {},
   "source": [
    "# 第一个Jupyter Demo\n",
    "jupyter 支持 markdown"
   ]
  },
  {
   "cell_type": "markdown",
   "metadata": {},
   "source": [
    "### Jupyter Notebook 有四种单元格\n",
    "* Code：写代码的地方；\n",
    "* Markdown：使用Markdown语法为代码添加注释和结论；\n",
    "* Raw NBConvert：一个命令行工具，可以把你的笔记本转换成另一种格式，如HTML；\n",
    "* Heading：添加标题，也可以用MarkDown来代替"
   ]
  },
  {
   "cell_type": "markdown",
   "metadata": {},
   "source": [
    "### jupyter 支持插入网络图片  \n",
    "<img src=\"https://avatars1.githubusercontent.com/u/7388996?s=200&v=4\" style=\"width:100px;height:100px;float:left\">  "
   ]
  },
  {
   "attachments": {},
   "cell_type": "markdown",
   "metadata": {},
   "source": [
    "### jupyter 支持插入本地图片\n",
    "本地图片会被转成字符串保存在ipynb文件中（json格式）\n",
    "<img src=\"wm.jpg\" width=\"20%\">"
   ]
  },
  {
   "cell_type": "markdown",
   "metadata": {},
   "source": [
    "### jupyter 支持LaTex 语法  \n",
    "$$\\sum_{k=1}^{n}\\frac{1}{k}$$  \n",
    "$\\sum_{k=1}^n\\frac{1}{k}$  \n",
    "$$\\int_a^b f(x)dx$$  \n",
    "$\\int_a^b f(x)dx$  \n",
    "$$\\int_a^b f(x)\\mathrm{d}x$$"
   ]
  },
  {
   "cell_type": "markdown",
   "metadata": {},
   "source": [
    "### jupyter 当然还支持写代码"
   ]
  },
  {
   "cell_type": "code",
   "execution_count": 5,
   "metadata": {},
   "outputs": [
    {
     "data": {
      "text/plain": [
       "'Hello Jupyter Notebook!'"
      ]
     },
     "execution_count": 5,
     "metadata": {},
     "output_type": "execute_result"
    }
   ],
   "source": [
    "\"Hello Jupyter Notebook!\""
   ]
  },
  {
   "cell_type": "markdown",
   "metadata": {},
   "source": [
    "### 魔法函数（Magic Functions）\n",
    "* IPython有一组预先定义好的所谓的魔法函数（Magic Functions），你可以通过命令行的语法形式来访问它们。\n",
    "* “%matplotlib inline”就是模仿命令行来访问magic函数的在IPython中独有的形式。\n",
    "\n",
    "#### magic函数分两种：一种是面向行的，另一种是面向单元型的。\n",
    "*  行magic函数是用前缀“%”标注的，“%”后面就是magic函数的参数了，但是它的参数是没有被写在括号或者引号中来传值的。\n",
    "*  单元型magic函数是由两个“%%”做前缀的，它的参数不仅是当前“%%”行后面的内容，也包括了在当前行以下的行。"
   ]
  },
  {
   "cell_type": "code",
   "execution_count": 12,
   "metadata": {},
   "outputs": [
    {
     "data": {
      "text/plain": [
       "Text(0.5,1,'Sin(x)')"
      ]
     },
     "execution_count": 12,
     "metadata": {},
     "output_type": "execute_result"
    },
    {
     "data": {
      "image/png": "[encoded data removed]",
      "text/plain": [
       "<matplotlib.figure.Figure at 0x10a7e6a0>"
      ]
     },
     "metadata": {},
     "output_type": "display_data"
    }
   ],
   "source": [
    "%matplotlib inline  \n",
    "# 可以内嵌绘图，并可以省略掉plt.show()这一步。\n",
    "\n",
    "import matplotlib.pyplot as plt\n",
    "import numpy as np\n",
    "\n",
    "x = np.linspace(0, 20, 100)\n",
    "\n",
    "plt.plot(x, np.sin(x))\n",
    "plt.xlabel(\"x\")\n",
    "plt.ylabel(\"y\")\n",
    "plt.title(\"Sin(x)\")\n",
    "# plt.show()"
   ]
  },
  {
   "cell_type": "markdown",
   "metadata": {},
   "source": [
    "### jupyter 中的交互面板\n",
    "先生成输出框，然后生成输入框，输入后回车，会输出信息同时输入框也进行输出"
   ]
  },
  {
   "cell_type": "code",
   "execution_count": 28,
   "metadata": {},
   "outputs": [
    {
     "name": "stdout",
     "output_type": "stream",
     "text": [
      "输出框：\n"
     ]
    },
    {
     "data": {
      "application/vnd.jupyter.widget-view+json": {
       "model_id": "ce6250c8a7694c50b3380a82f4a6fa26",
       "version_major": 2,
       "version_minor": 0
      },
      "text/plain": [
       "Text(value='')"
      ]
     },
     "metadata": {},
     "output_type": "display_data"
    }
   ],
   "source": [
    "from ipywidgets import widgets\n",
    "\n",
    "# 定义输出框\n",
    "outputText = widgets.Text()\n",
    "print(\"输出框：\")\n",
    "outputText # 显示输出框"
   ]
  },
  {
   "cell_type": "code",
   "execution_count": 31,
   "metadata": {
    "slideshow": {
     "slide_type": "-"
    }
   },
   "outputs": [
    {
     "name": "stdout",
     "output_type": "stream",
     "text": [
      "输入框：\n"
     ]
    },
    {
     "data": {
      "application/vnd.jupyter.widget-view+json": {
       "model_id": "d89f00132c6b4f5198fe47716960cff2",
       "version_major": 2,
       "version_minor": 0
      },
      "text/plain": [
       "Text(value='')"
      ]
     },
     "metadata": {},
     "output_type": "display_data"
    },
    {
     "name": "stdout",
     "output_type": "stream",
     "text": [
      "输入的内容为： hello world\n"
     ]
    }
   ],
   "source": [
    "def printText(sender):\n",
    "    outputText.value = inputText.value\n",
    "    print(\"输入的内容为：\",inputText.value)\n",
    "\n",
    "# 定义输入框\n",
    "inputText = widgets.Text()\n",
    "inputText.on_submit(printText) # 回车时调用printText方法\n",
    "print(\"输入框：\")\n",
    "inputText # 显示输入框"
   ]
  },
  {
   "cell_type": "markdown",
   "metadata": {},
   "source": [
    "### jupyter 菜单栏操作\n",
    "* File\n",
    "  * Revert to CheckPoint 回滚至上一个检查点\n",
    "  * Download as 可以把文档保存成各种格式并下载\n",
    "  * Close and Halt 关闭当前内核并关闭该标签页  \n",
    "  \n",
    "其他的不说了，把鼠标悬停在选项上方就有提示"
   ]
  },
  {
   "cell_type": "code",
   "execution_count": null,
   "metadata": {},
   "outputs": [],
   "source": []
  }
 ],
 "metadata": {
  "kernelspec": {
   "display_name": "Python 3",
   "language": "python",
   "name": "python3"
  },
  "language_info": {
   "codemirror_mode": {
    "name": "ipython",
    "version": 3
   },
   "file_extension": ".py",
   "mimetype": "text/x-python",
   "name": "python",
   "nbconvert_exporter": "python",
   "pygments_lexer": "ipython3",
   "version": "3.6.4"
  }
 },
 "nbformat": 4,
 "nbformat_minor": 2
}
